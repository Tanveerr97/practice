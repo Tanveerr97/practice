{
 "cells": [
  {
   "cell_type": "code",
   "execution_count": null,
   "id": "fca68aec",
   "metadata": {},
   "outputs": [
    {
     "name": "stdout",
     "output_type": "stream",
     "text": [
      "PostgreSQL connection established.\n",
      "Table 'Daily_updates' created successfully.\n",
      "Row with s_no = 6 deleted from 'daily_updates'.\n",
      "Tables in the database:\n",
      "- daily_updates\n",
      "\n",
      "Data from table 'Daily_updates':\n",
      "(1, '2025-04-07', 'Env_setup', 'completed')\n",
      "(2, '2025-04-08', 'Pep8', 'completed')\n",
      "(3, '2025-04-09', 'Os_module and pattern', 'completed')\n",
      "(4, '2025-04-10', 'postgresql', 'completed')\n",
      "PostgreSQL connection closed.\n"
     ]
    }
   ],
   "source": [
    "%run ./db_func.ipynb\n",
    "\n",
    "db = PostgresConnector(\n",
    "    host=\"localhost\",\n",
    "    database=\"tanveer\",\n",
    "    user=\"root\",\n",
    "    password=\"12345\"\n",
    ")\n",
    "\n",
    "conn = db.connect()\n",
    "db.create_table(\"Daily_updates\")\n",
    "# db.reset_serial_sequence(\"Daily_updates\")\n",
    "# db.insert_data(\"Daily_updates\", \"2025-04-10\", \"postgresql\", \"Completed\")\n",
    "\n",
    "# db.delete_row_by_sno(\"daily_updates\", 6)\n",
    "db.show_tables()\n",
    "db.fetch_all_data(\"Daily_updates\") \n",
    "\n",
    "db.close()\n",
    "\n"
   ]
  },
  {
   "cell_type": "code",
   "execution_count": null,
   "id": "f3ec535b",
   "metadata": {},
   "outputs": [],
   "source": []
  },
  {
   "cell_type": "code",
   "execution_count": null,
   "id": "855c3c34",
   "metadata": {},
   "outputs": [],
   "source": []
  }
 ],
 "metadata": {
  "kernelspec": {
   "display_name": "Python 3",
   "language": "python",
   "name": "python3"
  },
  "language_info": {
   "codemirror_mode": {
    "name": "ipython",
    "version": 3
   },
   "file_extension": ".py",
   "mimetype": "text/x-python",
   "name": "python",
   "nbconvert_exporter": "python",
   "pygments_lexer": "ipython3",
   "version": "3.10.16"
  }
 },
 "nbformat": 4,
 "nbformat_minor": 5
}
