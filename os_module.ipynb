{
 "cells": [
  {
   "cell_type": "code",
   "execution_count": 60,
   "id": "7e7c6565",
   "metadata": {},
   "outputs": [],
   "source": [
    "import os \n",
    "\n"
   ]
  },
  {
   "cell_type": "code",
   "execution_count": 82,
   "id": "4bad02f3",
   "metadata": {},
   "outputs": [
    {
     "name": "stdout",
     "output_type": "stream",
     "text": [
      "share\n",
      "pyvenv.cfg\n",
      "lib\n",
      "os.ipynb\n",
      "lib64\n",
      "include\n",
      "bin\n"
     ]
    }
   ],
   "source": [
    "\n",
    "for file in os.listdir():\n",
    "    print(file)\n",
    "\n",
    "\n",
    " \n"
   ]
  },
  {
   "cell_type": "code",
   "execution_count": 62,
   "id": "64fce8d0",
   "metadata": {},
   "outputs": [
    {
     "data": {
      "text/plain": [
       "'/home/tanveer/python/py_01'"
      ]
     },
     "execution_count": 62,
     "metadata": {},
     "output_type": "execute_result"
    }
   ],
   "source": [
    "os.getcwd()"
   ]
  },
  {
   "cell_type": "code",
   "execution_count": 63,
   "id": "9d5b10c3",
   "metadata": {},
   "outputs": [],
   "source": [
    "# Make new directory\n",
    "# os.mkdir(\"new_folder\")\n",
    "\n"
   ]
  },
  {
   "cell_type": "code",
   "execution_count": 64,
   "id": "bbeed488",
   "metadata": {},
   "outputs": [],
   "source": [
    "# Remove a directory\n",
    "# os.rmdir(\"new_folder\")"
   ]
  },
  {
   "cell_type": "code",
   "execution_count": 65,
   "id": "814d167c",
   "metadata": {},
   "outputs": [],
   "source": [
    "# import shutil\n",
    "# shutil.rmtree(\"new_folder\")  #Remove empty directory\n"
   ]
  },
  {
   "cell_type": "code",
   "execution_count": 66,
   "id": "660a851f",
   "metadata": {},
   "outputs": [],
   "source": [
    "# os.path.join('/home/tanveer/python/py_01','new_folder')"
   ]
  },
  {
   "cell_type": "code",
   "execution_count": 67,
   "id": "53a91419",
   "metadata": {},
   "outputs": [],
   "source": [
    "# os.getcwd()"
   ]
  },
  {
   "cell_type": "code",
   "execution_count": 68,
   "id": "4e4f198d",
   "metadata": {},
   "outputs": [],
   "source": [
    "# os.chdir('new_folder/')"
   ]
  },
  {
   "cell_type": "code",
   "execution_count": 69,
   "id": "c1bb73ce",
   "metadata": {},
   "outputs": [
    {
     "data": {
      "text/plain": [
       "'/home/tanveer/python/py_01'"
      ]
     },
     "execution_count": 69,
     "metadata": {},
     "output_type": "execute_result"
    }
   ],
   "source": [
    "os.getcwd()"
   ]
  },
  {
   "cell_type": "code",
   "execution_count": 70,
   "id": "ef729617",
   "metadata": {},
   "outputs": [
    {
     "data": {
      "text/plain": [
       "True"
      ]
     },
     "execution_count": 70,
     "metadata": {},
     "output_type": "execute_result"
    }
   ],
   "source": [
    "os.path.exists('/home/tanveer/python/py_01') #check path is exit\n"
   ]
  },
  {
   "cell_type": "code",
   "execution_count": 71,
   "id": "ee8f5f03",
   "metadata": {},
   "outputs": [
    {
     "data": {
      "text/plain": [
       "False"
      ]
     },
     "execution_count": 71,
     "metadata": {},
     "output_type": "execute_result"
    }
   ],
   "source": [
    "os.path.isfile('new_folder') #check it is file or not \n"
   ]
  },
  {
   "cell_type": "code",
   "execution_count": 72,
   "id": "430971de",
   "metadata": {},
   "outputs": [
    {
     "data": {
      "text/plain": [
       "False"
      ]
     },
     "execution_count": 72,
     "metadata": {},
     "output_type": "execute_result"
    }
   ],
   "source": [
    "os.path.isdir('new_folder') #check if it is folder or not\n"
   ]
  },
  {
   "cell_type": "code",
   "execution_count": 73,
   "id": "d830e2e7",
   "metadata": {},
   "outputs": [],
   "source": [
    "# os.path.join('folder', 'file.txt') join file into folder"
   ]
  },
  {
   "cell_type": "code",
   "execution_count": 74,
   "id": "e21eeaa7",
   "metadata": {},
   "outputs": [
    {
     "data": {
      "text/plain": [
       "6449"
      ]
     },
     "execution_count": 74,
     "metadata": {},
     "output_type": "execute_result"
    }
   ],
   "source": [
    "os.path.getsize('os.ipynb')\n"
   ]
  },
  {
   "cell_type": "code",
   "execution_count": 75,
   "id": "aaa8919a",
   "metadata": {},
   "outputs": [
    {
     "data": {
      "text/plain": [
       "'/home/tanveer/python/py_01/os.ipynb'"
      ]
     },
     "execution_count": 75,
     "metadata": {},
     "output_type": "execute_result"
    }
   ],
   "source": [
    "os.path.abspath('os.ipynb') #absolute path"
   ]
  },
  {
   "cell_type": "code",
   "execution_count": 76,
   "id": "2ce9661e",
   "metadata": {},
   "outputs": [
    {
     "data": {
      "text/plain": [
       "'python/py_01/os.ipynb'"
      ]
     },
     "execution_count": 76,
     "metadata": {},
     "output_type": "execute_result"
    }
   ],
   "source": [
    "os.path.relpath('/home/tanveer/python/py_01/os.ipynb',start='/home/tanveer') #relative path"
   ]
  },
  {
   "cell_type": "code",
   "execution_count": 77,
   "id": "f7f88a1c",
   "metadata": {},
   "outputs": [
    {
     "data": {
      "text/plain": [
       "'os.ipynb'"
      ]
     },
     "execution_count": 77,
     "metadata": {},
     "output_type": "execute_result"
    }
   ],
   "source": [
    "os.path.basename('/home/tanveer/python/py_01/os.ipynb') #gives current base name"
   ]
  },
  {
   "cell_type": "code",
   "execution_count": 78,
   "id": "214f815f",
   "metadata": {},
   "outputs": [
    {
     "data": {
      "text/plain": [
       "'/home/tanveer/python/py_01'"
      ]
     },
     "execution_count": 78,
     "metadata": {},
     "output_type": "execute_result"
    }
   ],
   "source": [
    "os.path.dirname('/home/tanveer/python/py_01/os.ipynb') #gives last directory name"
   ]
  },
  {
   "cell_type": "code",
   "execution_count": 79,
   "id": "4387e48c",
   "metadata": {},
   "outputs": [
    {
     "data": {
      "text/plain": [
       "('/home/tanveer/python/py_01', 'os.ipynb')"
      ]
     },
     "execution_count": 79,
     "metadata": {},
     "output_type": "execute_result"
    }
   ],
   "source": [
    "os.path.split('/home/tanveer/python/py_01/os.ipynb') #split file and directory"
   ]
  },
  {
   "cell_type": "code",
   "execution_count": null,
   "id": "72efc721",
   "metadata": {},
   "outputs": [
    {
     "data": {
      "text/plain": [
       "('/home/tanveer/python/py_01/os', '.ipynb')"
      ]
     },
     "execution_count": 81,
     "metadata": {},
     "output_type": "execute_result"
    }
   ],
   "source": [
    "os.path.splitext('/home/tanveer/python/py_01/os.ipynb') #split file and extension "
   ]
  },
  {
   "cell_type": "markdown",
   "id": "711a974a",
   "metadata": {},
   "source": []
  }
 ],
 "metadata": {
  "kernelspec": {
   "display_name": "ml_myenv01",
   "language": "python",
   "name": "python3"
  },
  "language_info": {
   "codemirror_mode": {
    "name": "ipython",
    "version": 3
   },
   "file_extension": ".py",
   "mimetype": "text/x-python",
   "name": "python",
   "nbconvert_exporter": "python",
   "pygments_lexer": "ipython3",
   "version": "3.10.16"
  }
 },
 "nbformat": 4,
 "nbformat_minor": 5
}
