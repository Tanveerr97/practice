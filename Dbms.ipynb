{
 "cells": [
  {
   "cell_type": "code",
   "execution_count": null,
   "id": "996fb48e",
   "metadata": {},
   "outputs": [],
   "source": [
    "import psycopg2 as psync\n",
    "import asyncpg  as pasync\n",
    "\n",
    " \n",
    "\n",
    "\n"
   ]
  },
  {
   "cell_type": "code",
   "execution_count": null,
   "id": "b3cb7764",
   "metadata": {},
   "outputs": [],
   "source": [
    "\n",
    "conn = psync.connect(\n",
    "    host='localhost',\n",
    "    user='root',\n",
    "    password='12345',\n",
    "    port=5432,\n",
    "    dbname='mydb'  \n",
    ")\n",
    "\n",
    "\n",
    "\n"
   ]
  },
  {
   "cell_type": "code",
   "execution_count": 134,
   "id": "7d26e372",
   "metadata": {},
   "outputs": [],
   "source": [
    "cur = myobj.cursor()\n",
    "cur.execute(\"CREATE DATABASE Tanveer;\")\n"
   ]
  },
  {
   "cell_type": "code",
   "execution_count": 135,
   "id": "460a4deb",
   "metadata": {},
   "outputs": [
    {
     "name": "stdout",
     "output_type": "stream",
     "text": [
      "postgres\n",
      "mydb\n",
      "veer\n",
      "tanveer\n"
     ]
    }
   ],
   "source": [
    "cur = conn.cursor()\n",
    "cur.execute(\"SELECT datname FROM pg_database WHERE datistemplate = false;\")\n",
    "for db in cur.fetchall():\n",
    "    print(db[0])\n",
    "\n"
   ]
  },
  {
   "cell_type": "code",
   "execution_count": 129,
   "id": "93ea0718",
   "metadata": {},
   "outputs": [],
   "source": [
    "# cur.execute(\"\"\"\n",
    "#     CREATE TABLE students (\n",
    "#         id SERIAL PRIMARY KEY,\n",
    "#         name VARCHAR(100),\n",
    "#         age INTEGER,\n",
    "#         grade VARCHAR(10)\n",
    "#     );\n",
    "# \"\"\")\n",
    "\n"
   ]
  },
  {
   "cell_type": "code",
   "execution_count": 130,
   "id": "8f584b0c",
   "metadata": {},
   "outputs": [],
   "source": [
    "students = [\n",
    "    ('Alice', 20, 'A'),\n",
    "    ('Bob', 21, 'B'),\n",
    "    ('Charlie', 22, 'C'),\n",
    "    ('David', 23, 'B'),\n",
    "    ('Eva', 20, 'A'),\n",
    "    ('Frank', 24, 'C'),\n",
    "    ('Grace', 22, 'B'),\n",
    "    ('Hannah', 21, 'A'),\n",
    "    ('Ian', 23, 'B'),\n",
    "    ('Julia', 20, 'A')\n",
    "]\n",
    "\n",
    "\n",
    "cur.executemany(\"INSERT INTO students (name, age, grade) VALUES (%s, %s, %s);\", students)\n",
    "\n"
   ]
  },
  {
   "cell_type": "code",
   "execution_count": 131,
   "id": "52d25c7a",
   "metadata": {},
   "outputs": [
    {
     "name": "stdout",
     "output_type": "stream",
     "text": [
      "(11, 'Alice', 20, 'A')\n",
      "(12, 'Bob', 21, 'B')\n",
      "(13, 'Charlie', 22, 'C')\n",
      "(14, 'David', 23, 'B')\n",
      "(15, 'Eva', 20, 'A')\n",
      "(16, 'Frank', 24, 'C')\n",
      "(17, 'Grace', 22, 'B')\n",
      "(18, 'Hannah', 21, 'A')\n",
      "(19, 'Ian', 23, 'B')\n",
      "(20, 'Julia', 20, 'A')\n"
     ]
    }
   ],
   "source": [
    "cur.execute(\"SELECT * FROM students;\")\n",
    "rows = cur.fetchall()\n",
    "\n",
    "for row in rows:\n",
    "    print(row)"
   ]
  },
  {
   "cell_type": "code",
   "execution_count": null,
   "id": "bfc2e27e",
   "metadata": {},
   "outputs": [],
   "source": []
  }
 ],
 "metadata": {
  "kernelspec": {
   "display_name": "Python 3",
   "language": "python",
   "name": "python3"
  },
  "language_info": {
   "codemirror_mode": {
    "name": "ipython",
    "version": 3
   },
   "file_extension": ".py",
   "mimetype": "text/x-python",
   "name": "python",
   "nbconvert_exporter": "python",
   "pygments_lexer": "ipython3",
   "version": "3.10.16"
  }
 },
 "nbformat": 4,
 "nbformat_minor": 5
}
