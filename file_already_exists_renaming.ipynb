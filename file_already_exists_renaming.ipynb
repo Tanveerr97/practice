{
 "cells": [
  {
   "cell_type": "code",
   "execution_count": null,
   "id": "5cb835ea",
   "metadata": {},
   "outputs": [
    {
     "name": "stdout",
     "output_type": "stream",
     "text": [
      "{'report': 1}\n",
      "Saved: output/report/report.txt\n",
      "{'report': 2}\n",
      "Saved: output/report/report_1.txt\n",
      "{'report': 2, 'summary': 1}\n",
      "Saved: output/summary/summary.txt\n",
      "{'report': 3, 'summary': 1}\n",
      "Saved: output/report/report_2.txt\n",
      "{'report': 3, 'summary': 2}\n",
      "Saved: output/summary/summary_1.txt\n",
      "{'report': 3, 'summary': 2, 'data_file': 1}\n",
      "Saved: output/data_file/data_file.txt\n"
     ]
    }
   ],
   "source": [
    "import os\n",
    "import re\n",
    "\n",
    "# Simulated database results\n",
    "db_results = [\n",
    "    {\"name\": \"report\"},\n",
    "    {\"name\": \"report\"},\n",
    "    {\"name\": \"summary\"},\n",
    "    {\"name\": \"report\"},\n",
    "    {\"name\": \"summary\"},\n",
    "    {\"name\": \"data/file\"},  # Needs sanitizing\n",
    "]\n",
    "\n",
    "# Base output directory\n",
    "base_output = \"output\"\n",
    "os.makedirs(base_output, exist_ok=True)\n",
    "\n",
    "# Sanitize filenames (remove slashes, etc.)\n",
    "def sanitize_filename(name):\n",
    "    return re.sub(r'[\\/:*?\"<>|]', \"_\", name)\n",
    "\n",
    "# Track counters per folder\n",
    "file_counters = {}\n",
    "\n",
    "for row in db_results:\n",
    "    original_name = row[\"name\"]\n",
    "    safe_name = sanitize_filename(original_name)\n",
    "\n",
    "    # Create folder for each unique name\n",
    "    folder_path = os.path.join(base_output, safe_name)\n",
    "    os.makedirs(folder_path, exist_ok=True)\n",
    "\n",
    "    # Determine file name with auto-increment\n",
    "    count = file_counters.get(safe_name, 0)\n",
    "    if count == 0:\n",
    "        file_name = f\"{safe_name}.txt\"\n",
    "    else:\n",
    "        file_name = f\"{safe_name}_{count}.txt\"\n",
    "    file_counters[safe_name] = count + 1\n",
    "   \n",
    "\n",
    "    file_path = os.path.join(folder_path, file_name)\n",
    "\n",
    "    # Write dummy content\n",
    "    with open(file_path, \"w\") as f:\n",
    "        f.write(f\"Data for {original_name}\\n\")\n",
    "\n",
    "    print(f\"Saved: {file_path}\")\n",
    "\n"
   ]
  }
 ],
 "metadata": {
  "kernelspec": {
   "display_name": "ml_myenv01",
   "language": "python",
   "name": "python3"
  },
  "language_info": {
   "codemirror_mode": {
    "name": "ipython",
    "version": 3
   },
   "file_extension": ".py",
   "mimetype": "text/x-python",
   "name": "python",
   "nbconvert_exporter": "python",
   "pygments_lexer": "ipython3",
   "version": "3.10.16"
  }
 },
 "nbformat": 4,
 "nbformat_minor": 5
}
