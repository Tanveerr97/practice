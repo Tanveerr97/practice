{
 "cells": [
  {
   "cell_type": "code",
   "execution_count": 31,
   "id": "97807f92",
   "metadata": {},
   "outputs": [
    {
     "name": "stdout",
     "output_type": "stream",
     "text": [
      "* * * * * \n",
      "* * * * * \n",
      "* * * * * \n",
      "* * * * * \n",
      "* * * * * \n"
     ]
    }
   ],
   "source": [
    "n=5\n",
    "for i in range(n):\n",
    "    for j in range(n):\n",
    "        print('*',end=' ')\n",
    "    print()"
   ]
  },
  {
   "cell_type": "code",
   "execution_count": 32,
   "id": "ea4f4bd6",
   "metadata": {},
   "outputs": [
    {
     "name": "stdout",
     "output_type": "stream",
     "text": [
      "* * * * * \n",
      "*       * \n",
      "*       * \n",
      "*       * \n",
      "* * * * * \n"
     ]
    }
   ],
   "source": [
    "n=5\n",
    "for i in range(n):\n",
    "    for j in range(n):\n",
    "     if ((i==0 or i==n-1) or (j==0 or j==n-1)):\n",
    "      print('*',end=' ')\n",
    "     else:\n",
    "       print(' ',end=' ')\n",
    "    print()"
   ]
  },
  {
   "cell_type": "code",
   "execution_count": 33,
   "id": "bacafb18",
   "metadata": {},
   "outputs": [
    {
     "name": "stdout",
     "output_type": "stream",
     "text": [
      "* \n",
      "* * \n",
      "* * * \n",
      "* * * * \n",
      "* * * * * \n"
     ]
    }
   ],
   "source": [
    "n=5\n",
    "for i in range(n):\n",
    "    for j in range(i+1):\n",
    "        print('*',end=' ')\n",
    "    print()\n",
    "       "
   ]
  },
  {
   "cell_type": "code",
   "execution_count": 37,
   "id": "87baaaaa",
   "metadata": {},
   "outputs": [
    {
     "name": "stdout",
     "output_type": "stream",
     "text": [
      "* * * * * \n",
      "* * * * \n",
      "* * * \n",
      "* * \n",
      "* \n"
     ]
    }
   ],
   "source": [
    "n=5\n",
    "for i in range(n):\n",
    "    for j in range(i,n):\n",
    "        print('*',end=' ')\n",
    "    print()    "
   ]
  },
  {
   "cell_type": "code",
   "execution_count": 47,
   "id": "bea3a898",
   "metadata": {},
   "outputs": [
    {
     "name": "stdout",
     "output_type": "stream",
     "text": [
      "          * \n",
      "        * * \n",
      "      * * * \n",
      "    * * * * \n",
      "  * * * * * \n"
     ]
    }
   ],
   "source": [
    "n=5\n",
    "for i in range(n):\n",
    "    for j in range(i,n):\n",
    "     print(' ',end=' ')\n",
    "    for j in range(i+1):\n",
    "     print('*',end=' ') \n",
    "    print()\n",
    "\n",
    "\n",
    "        \n"
   ]
  },
  {
   "cell_type": "code",
   "execution_count": 51,
   "id": "5995c447",
   "metadata": {},
   "outputs": [
    {
     "name": "stdout",
     "output_type": "stream",
     "text": [
      "          * \n",
      "        * * * \n",
      "      * * * * * \n",
      "    * * * * * * * \n",
      "  * * * * * * * * * \n"
     ]
    }
   ],
   "source": [
    "n=5\n",
    "for i in range(n):\n",
    "    for j in range(i,n):\n",
    "     print(' ',end=' ')\n",
    "    for j in range(i):\n",
    "     print('*',end=' ') \n",
    "    for j in range(i+1):\n",
    "     print('*',end=' ') \n",
    "    print()"
   ]
  },
  {
   "cell_type": "code",
   "execution_count": 70,
   "id": "88ab5974",
   "metadata": {},
   "outputs": [
    {
     "name": "stdout",
     "output_type": "stream",
     "text": [
      "  * * * * * \n",
      "    * * * * \n",
      "      * * * \n",
      "        * * \n",
      "          * \n"
     ]
    }
   ],
   "source": [
    "n=5\n",
    "for i in range(n):\n",
    "    for j in range(i+1):\n",
    "     print(' ',end=' ')\n",
    "    for j in range(i,n):\n",
    "     print('*',end=' ') \n",
    "    print()"
   ]
  },
  {
   "cell_type": "code",
   "execution_count": 58,
   "id": "e4e0d8e2",
   "metadata": {},
   "outputs": [
    {
     "name": "stdout",
     "output_type": "stream",
     "text": [
      "  * * * * * * * * * \n",
      "    * * * * * * * \n",
      "      * * * * * \n",
      "        * * * \n",
      "          * \n"
     ]
    }
   ],
   "source": [
    "n=5\n",
    "for i in range(n):\n",
    "    for j in range(i+1):\n",
    "     print(' ',end=' ')\n",
    "    for j in range(i,n-1):\n",
    "     print('*',end=' ') \n",
    "    for j in range(i,n):\n",
    "     print('*',end=' ') \n",
    "    print()"
   ]
  },
  {
   "cell_type": "code",
   "execution_count": 77,
   "id": "297d0b69",
   "metadata": {},
   "outputs": [
    {
     "name": "stdout",
     "output_type": "stream",
     "text": [
      "      * * * \n",
      "      * * * \n",
      "      * * * \n",
      "      * * * \n",
      "      * * * \n",
      "      * * * \n",
      "      * * * \n",
      "      * * * \n",
      "      * * * \n",
      "      * * * \n"
     ]
    }
   ],
   "source": [
    "m=10\n",
    "n=3\n",
    "for i in range(m):\n",
    "    for j in range(n):\n",
    "     print(' ',end=' ')\n",
    "    for j in range(n):\n",
    "     print('*',end=' ')\n",
    "    print()   \n",
    "\n"
   ]
  },
  {
   "cell_type": "code",
   "execution_count": 83,
   "id": "a926aae9",
   "metadata": {},
   "outputs": [
    {
     "name": "stdout",
     "output_type": "stream",
     "text": [
      "          * \n",
      "        * * * \n",
      "      * * * * * \n",
      "    * * * * * * * \n",
      "  * * * * * * * * * \n",
      "        * * * \n",
      "        * * * \n",
      "        * * * \n",
      "        * * * \n",
      "        * * * \n",
      "        * * * \n",
      "        * * * \n",
      "        * * * \n",
      "        * * * \n",
      "        * * * \n"
     ]
    }
   ],
   "source": [
    "n=5\n",
    "for i in range(n):\n",
    "    for j in range(i,n):\n",
    "     print(' ',end=' ')\n",
    "    for j in range(i):\n",
    "     print('*',end=' ') \n",
    "    for j in range(i+1):\n",
    "     print('*',end=' ') \n",
    "    print()\n",
    "\n",
    "m=10\n",
    "n=4\n",
    "for i in range(m):\n",
    "    for j in range(n):\n",
    "     print(' ',end=' ')\n",
    "    for j in range(n-1):\n",
    "     print('*',end=' ')\n",
    "    print()      "
   ]
  },
  {
   "cell_type": "code",
   "execution_count": 134,
   "id": "0f90d385",
   "metadata": {},
   "outputs": [
    {
     "name": "stdout",
     "output_type": "stream",
     "text": [
      "  * \n",
      "    * \n",
      "      * \n",
      "        * \n",
      "          * \n"
     ]
    }
   ],
   "source": [
    "n=5\n",
    "for i in range(n):\n",
    "    for j in range(i+1):\n",
    "     print(' ',end=' ')\n",
    "    for j in range(i,n):\n",
    "  \n",
    "     if(i==j):\n",
    "      print('*',end=' ')      \n",
    "    print()\n",
    "    # for j in range(i,n):\n",
    "    #  print('*',end=' ')\n",
    "    # print()     "
   ]
  },
  {
   "cell_type": "code",
   "execution_count": null,
   "id": "fd764f75",
   "metadata": {},
   "outputs": [
    {
     "name": "stdout",
     "output_type": "stream",
     "text": [
      "        * \n",
      "      *   \n",
      "    *     \n",
      "  *       \n",
      "*         \n"
     ]
    }
   ],
   "source": [
    "n=5\n",
    "for i in range(n):\n",
    "    for j in range(n):\n",
    "        if(i+j==n-1):\n",
    "          print('*',end=' ')\n",
    "        else:\n",
    "           print(' ', end=' ')\n",
    "    print()  "
   ]
  },
  {
   "cell_type": "code",
   "execution_count": 165,
   "id": "98c3f3e8",
   "metadata": {},
   "outputs": [
    {
     "name": "stdout",
     "output_type": "stream",
     "text": [
      "    *    \n",
      "   * *   \n",
      "  *   *  \n",
      " *     * \n",
      "*       *\n"
     ]
    }
   ],
   "source": [
    "n = 5\n",
    "\n",
    "for i in range(n):\n",
    "    for j in range(2 * n - 1):\n",
    "        if j == n - 1 - i or j == n - 1 + i:\n",
    "            print('*', end='')\n",
    "        else:\n",
    "            print(' ', end='')\n",
    "    print()\n"
   ]
  }
 ],
 "metadata": {
  "kernelspec": {
   "display_name": "ml_myenv01",
   "language": "python",
   "name": "python3"
  },
  "language_info": {
   "codemirror_mode": {
    "name": "ipython",
    "version": 3
   },
   "file_extension": ".py",
   "mimetype": "text/x-python",
   "name": "python",
   "nbconvert_exporter": "python",
   "pygments_lexer": "ipython3",
   "version": "3.10.16"
  }
 },
 "nbformat": 4,
 "nbformat_minor": 5
}
