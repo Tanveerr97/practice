{
 "cells": [
  {
   "cell_type": "code",
   "execution_count": null,
   "id": "3be53f36",
   "metadata": {},
   "outputs": [
    {
     "name": "stdout",
     "output_type": "stream",
     "text": [
      "❌ Error: (535, b'5.7.8 Username and Password not accepted. For more information, go to\\n5.7.8  https://support.google.com/mail/?p=BadCredentials d9443c01a7336-22ac7b8b29esm45615325ad.81 - gsmtp')\n"
     ]
    }
   ],
   "source": [
    "import smtplib\n",
    "from email.message import EmailMessage\n",
    "\n",
    "def send_email(subject, body, to_email):\n",
    "  \n",
    "    EMAIL_ADDRESS = \"tanveerkhan.khan144@gmail.com\"\n",
    "    EMAIL_PASSWORD = \"*****\"\n",
    "\n",
    "    \n",
    "    msg = EmailMessage()\n",
    "    msg.set_content(body)\n",
    "    msg['Subject'] = subject\n",
    "    msg['From'] = EMAIL_ADDRESS\n",
    "    msg['To'] = to_email\n",
    "\n",
    "    \n",
    "    try:\n",
    "        with smtplib.SMTP_SSL('smtp.gmail.com', 465) as smtp:\n",
    "            smtp.login(EMAIL_ADDRESS, EMAIL_PASSWORD)\n",
    "            smtp.send_message(msg)\n",
    "        print(\"✅ Email sent successfully!\")\n",
    "    except Exception as e:\n",
    "        print(f\"❌ Error: {e}\")\n",
    "\n",
    "\n",
    "\n",
    "\n",
    "send_email(\n",
    "    \"Hello from Python\",\n",
    "    \"This is a test email sent from Python!\",\n",
    "    \"tanveer.khan@dotsquares.com\"\n",
    ")\n"
   ]
  },
  {
   "cell_type": "code",
   "execution_count": null,
   "id": "1835dd0c",
   "metadata": {},
   "outputs": [],
   "source": []
  }
 ],
 "metadata": {
  "kernelspec": {
   "display_name": "Python 3",
   "language": "python",
   "name": "python3"
  },
  "language_info": {
   "codemirror_mode": {
    "name": "ipython",
    "version": 3
   },
   "file_extension": ".py",
   "mimetype": "text/x-python",
   "name": "python",
   "nbconvert_exporter": "python",
   "pygments_lexer": "ipython3",
   "version": "3.10.16"
  }
 },
 "nbformat": 4,
 "nbformat_minor": 5
}
